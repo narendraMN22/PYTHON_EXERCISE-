{
 "cells": [
  {
   "cell_type": "raw",
   "metadata": {},
   "source": [
    "Read Five marks tamil,english,maths,science and social and if all marks are greater than 35 , print pass else print fail"
   ]
  },
  {
   "cell_type": "code",
   "execution_count": 13,
   "metadata": {},
   "outputs": [
    {
     "name": "stdin",
     "output_type": "stream",
     "text": [
      "enter marks  100\n",
      "enter marks  100\n",
      "enter marks  199\n",
      "enter marks  35\n"
     ]
    },
    {
     "name": "stdout",
     "output_type": "stream",
     "text": [
      "fail\n"
     ]
    }
   ],
   "source": [
    "kannda=float(input(\"enter marks \"))\n",
    "english=float(input(\"enter marks \"))\n",
    "maths=float(input(\"enter marks \"))\n",
    "science=float(input(\"enter marks \"))\n",
    "\n",
    "if kannda>35:\n",
    "    if english>35:\n",
    "        if maths>35:\n",
    "            if science>35:\n",
    "                    print(\"pass\")\n",
    "            else:\n",
    "                print(\"fail\")\n",
    "        else:\n",
    "            print(\"fail\")\n",
    "    else:\n",
    "        print(\"fail\")\n",
    "else:\n",
    "    print(\"fail\")\n",
    "    "
   ]
  },
  {
   "cell_type": "code",
   "execution_count": null,
   "metadata": {},
   "outputs": [],
   "source": []
  }
 ],
 "metadata": {
  "kernelspec": {
   "display_name": "Python [conda env:base] *",
   "language": "python",
   "name": "conda-base-py"
  },
  "language_info": {
   "codemirror_mode": {
    "name": "ipython",
    "version": 3
   },
   "file_extension": ".py",
   "mimetype": "text/x-python",
   "name": "python",
   "nbconvert_exporter": "python",
   "pygments_lexer": "ipython3",
   "version": "3.13.5"
  }
 },
 "nbformat": 4,
 "nbformat_minor": 4
}
