{
 "cells": [
  {
   "cell_type": "code",
   "execution_count": 9,
   "metadata": {},
   "outputs": [
    {
     "name": "stdout",
     "output_type": "stream",
     "text": [
      "34\n",
      "35\n",
      "36\n",
      "37\n",
      "38\n",
      "39\n",
      "40\n",
      "41\n",
      "42\n",
      "43\n",
      "44\n",
      "45\n"
     ]
    }
   ],
   "source": [
    "# Write a program using for loop to print from 34 to 45 (45 included)\n",
    "\n",
    "# your Answer\n",
    "\n",
    "for i in range (34,46):\n",
    "    print(i)\n",
    "\n",
    "\n",
    "\n",
    "\n"
   ]
  },
  {
   "cell_type": "code",
   "execution_count": 17,
   "metadata": {},
   "outputs": [
    {
     "name": "stdout",
     "output_type": "stream",
     "text": [
      "1 machinelearning\n",
      "2 machinelearning\n",
      "3 machinelearning\n",
      "4 machinelearning\n",
      "5 machinelearning\n",
      "6 machinelearning\n",
      "7 machinelearning\n",
      "8 machinelearning\n",
      "9 machinelearning\n",
      "10 machinelearning\n",
      "11 machinelearning\n",
      "12 machinelearning\n",
      "13 machinelearning\n",
      "14 machinelearning\n",
      "15 machinelearning\n",
      "16 machinelearning\n",
      "17 machinelearning\n",
      "18 machinelearning\n",
      "19 machinelearning\n",
      "20 machinelearning\n",
      "21 machinelearning\n",
      "22 machinelearning\n",
      "23 machinelearning\n",
      "24 machinelearning\n",
      "25 machinelearning\n",
      "26 machinelearning\n",
      "27 machinelearning\n",
      "28 machinelearning\n",
      "29 machinelearning\n",
      "30 machinelearning\n",
      "31 machinelearning\n",
      "32 machinelearning\n",
      "33 machinelearning\n",
      "34 machinelearning\n",
      "35 machinelearning\n",
      "36 machinelearning\n",
      "37 machinelearning\n",
      "38 machinelearning\n",
      "39 machinelearning\n",
      "40 machinelearning\n",
      "41 machinelearning\n",
      "42 machinelearning\n",
      "43 machinelearning\n",
      "44 machinelearning\n",
      "45 machinelearning\n",
      "46 machinelearning\n",
      "47 machinelearning\n",
      "48 machinelearning\n",
      "49 machinelearning\n",
      "50 machinelearning\n"
     ]
    }
   ],
   "source": [
    "# Write a program using for loop to print \"machinelearning\" 50 times \n",
    "\n",
    "# your Answer\n",
    "\n",
    "for i in range(1,51):\n",
    "    print(f\"{i}\", \"machinelearning\")\n",
    "\n",
    "\n",
    "\n",
    "\n"
   ]
  },
  {
   "cell_type": "code",
   "execution_count": 19,
   "metadata": {},
   "outputs": [
    {
     "name": "stdout",
     "output_type": "stream",
     "text": [
      "21\n",
      "23\n",
      "25\n",
      "27\n"
     ]
    }
   ],
   "source": [
    "# Write a program using for loop to print 21 ,23,25,27\n",
    "\n",
    "# your Answer\n",
    "for a in range (21,28,2):\n",
    "    print(a)\n",
    "\n",
    "\n",
    "\n",
    "\n",
    "\n"
   ]
  },
  {
   "cell_type": "code",
   "execution_count": 26,
   "metadata": {},
   "outputs": [
    {
     "name": "stdout",
     "output_type": "stream",
     "text": [
      "14\n",
      "15\n",
      "16\n",
      "18\n",
      "19\n",
      "20\n",
      "21\n",
      "22\n",
      "23\n",
      "24\n",
      "25\n",
      "26\n",
      "27\n",
      "28\n",
      "29\n",
      "30\n",
      "31\n",
      "32\n",
      "33\n",
      "34\n",
      "35\n",
      "36\n",
      "37\n"
     ]
    }
   ],
   "source": [
    "#Write a Python program that prints all the numbers from 14 to 37(37 inclusive) except 17 .\n",
    "#Note : Use 'continue' statement.\n",
    "#Expected Output : 14 15 16 18 19 20 21 22 23 24 25 26 27 28 29 30 31 32 33 34 35 36 37\n",
    "\n",
    "# your Answer\n",
    "\n",
    "for numbers in range (14,38):\n",
    "    if numbers==17:\n",
    "        continue\n",
    "    print(numbers)\n",
    "\n",
    "\n",
    "\n",
    "\n"
   ]
  },
  {
   "cell_type": "code",
   "execution_count": 31,
   "metadata": {},
   "outputs": [
    {
     "name": "stdout",
     "output_type": "stream",
     "text": [
      "86\n",
      "88\n",
      "90\n",
      "92\n",
      "94\n",
      "96\n",
      "98\n",
      "100\n"
     ]
    }
   ],
   "source": [
    "# Write a program to print only even numbers from 85 to 100 using for loop\n",
    "\n",
    "# your Answer\n",
    "\n",
    "for n in range(85,101):\n",
    "    if n%2==0:\n",
    "        print(n)\n",
    "\n",
    "\n",
    "\n",
    "\n"
   ]
  },
  {
   "cell_type": "code",
   "execution_count": 51,
   "metadata": {},
   "outputs": [
    {
     "name": "stdout",
     "output_type": "stream",
     "text": [
      "35\n"
     ]
    }
   ],
   "source": [
    "# Write a Python program to find those numbers which are divisible by 7 and multiple of 5, between 14 and 37\n",
    "\n",
    "# your Answer\n",
    "\n",
    "for i in range (14,38):\n",
    "    if i%7==0 and i%5==0 :\n",
    "        print(i)\n",
    "    \n",
    "        \n",
    "\n",
    "\n",
    "\n",
    "\n",
    "\n"
   ]
  },
  {
   "cell_type": "code",
   "execution_count": 74,
   "metadata": {},
   "outputs": [
    {
     "name": "stdout",
     "output_type": "stream",
     "text": [
      "14\n",
      "good morning\n",
      "16\n",
      "17\n",
      "hello\n",
      "19\n",
      "Hi\n",
      "hello\n",
      "22\n",
      "23\n",
      "hello\n",
      "Hi\n",
      "26\n",
      "hello\n",
      "28\n",
      "29\n",
      "good morning\n",
      "31\n",
      "32\n",
      "hello\n",
      "34\n",
      "Hi\n",
      "hello\n",
      "37\n"
     ]
    }
   ],
   "source": [
    "#Write a Python program which iterates the integers from 14 to 37. \n",
    "#For multiples of three print \"hello\" instead of the number and for the multiples of five print \"hi\". \n",
    "#For numbers which are multiples of both three and five print \"goodmorning\"\n",
    "\n",
    "# your Answer\n",
    "\n",
    "for i in range (14,38):\n",
    "    if i%3==0 and i%5==0:\n",
    "        print(\"good morning\")\n",
    "    elif i%3==0:\n",
    "        print(\"hello\")\n",
    "    elif i%5==0:\n",
    "        print(\"Hi\")\n",
    "    else:\n",
    "        print(i)\n",
    "        \n",
    "        \n",
    "\n",
    "\n",
    "\n",
    "\n",
    "\n"
   ]
  },
  {
   "cell_type": "code",
   "execution_count": 92,
   "metadata": {},
   "outputs": [
    {
     "name": "stdin",
     "output_type": "stream",
     "text": [
      "enter which tables you want = 2\n"
     ]
    },
    {
     "name": "stdout",
     "output_type": "stream",
     "text": [
      "2 * 1= 2\n",
      "2 * 2= 4\n",
      "2 * 3= 6\n",
      "2 * 4= 8\n",
      "2 * 5= 10\n",
      "2 * 6= 12\n",
      "2 * 7= 14\n",
      "2 * 8= 16\n",
      "2 * 9= 18\n",
      "2 * 10= 20\n"
     ]
    }
   ],
   "source": [
    "\n",
    "\"\"\"\n",
    "2*1 = 2\n",
    "2*2 = 4\n",
    ".\n",
    ".\n",
    ".\n",
    "2*10 = 20\n",
    "\"\"\"\n",
    "#Write program to print 2 table like above \n",
    "\n",
    "# your Answer\n",
    "c=int(input(\"enter which tables you want =\"))\n",
    "for i in range (1,11):\n",
    "    a=c*i\n",
    "    print(f\"{c} * {i}=\",a)\n",
    "\n"
   ]
  },
  {
   "cell_type": "code",
   "execution_count": 111,
   "metadata": {},
   "outputs": [
    {
     "name": "stdout",
     "output_type": "stream",
     "text": [
      "* * * * * *\n",
      "*******************************\n",
      "* * * * * *\n",
      "*******************************\n",
      "* * * * * *\n",
      "*******************************\n",
      "* * * * * *\n",
      "*******************************\n"
     ]
    }
   ],
   "source": [
    "for i in range (1,2):\n",
    "    for j in range (1,5):\n",
    "        print('* * * * * *'\"\\n\"\n",
    "             \"***************\"\n",
    "             \"****************\")\n",
    "    "
   ]
  },
  {
   "cell_type": "code",
   "execution_count": null,
   "metadata": {},
   "outputs": [],
   "source": []
  },
  {
   "cell_type": "code",
   "execution_count": null,
   "metadata": {},
   "outputs": [],
   "source": []
  }
 ],
 "metadata": {
  "kernelspec": {
   "display_name": "Python [conda env:base] *",
   "language": "python",
   "name": "conda-base-py"
  },
  "language_info": {
   "codemirror_mode": {
    "name": "ipython",
    "version": 3
   },
   "file_extension": ".py",
   "mimetype": "text/x-python",
   "name": "python",
   "nbconvert_exporter": "python",
   "pygments_lexer": "ipython3",
   "version": "3.13.5"
  }
 },
 "nbformat": 4,
 "nbformat_minor": 4
}
