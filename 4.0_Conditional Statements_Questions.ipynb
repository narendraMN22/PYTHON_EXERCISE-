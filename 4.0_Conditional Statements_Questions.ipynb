{
 "cells": [
  {
   "cell_type": "code",
   "execution_count": 2,
   "metadata": {},
   "outputs": [
    {
     "name": "stdout",
     "output_type": "stream",
     "text": [
      "45 is even\n"
     ]
    }
   ],
   "source": [
    "# Write a program to find given number is odd or even \n",
    "x = 45\n",
    "#Your Answer\n",
    "\n",
    "if x%2:\n",
    "    print(x,\"is even\")\n",
    "else:\n",
    "    print(x, \"is  odd\")\n",
    "\n",
    "\n",
    "\n",
    "\n",
    "\n",
    "\n"
   ]
  },
  {
   "cell_type": "code",
   "execution_count": 2,
   "metadata": {},
   "outputs": [
    {
     "name": "stdout",
     "output_type": "stream",
     "text": [
      "2020  is leap year\n"
     ]
    }
   ],
   "source": [
    "#Write a program to find the given year is leap year or not\n",
    "year = 2020\n",
    "#Your Answer\n",
    "\n",
    "if (year%4==0 and year %100!=0) or (year%400==0):\n",
    "    print( year,\" is leap year\")\n",
    "else:\n",
    "    print( year,\" is not year \")\n",
    "\n",
    "\n",
    "\n",
    "\n",
    "\n",
    "\n"
   ]
  },
  {
   "cell_type": "code",
   "execution_count": 5,
   "metadata": {},
   "outputs": [
    {
     "name": "stdin",
     "output_type": "stream",
     "text": [
      "enter your age 18\n"
     ]
    },
    {
     "name": "stdout",
     "output_type": "stream",
     "text": [
      "your can vote\n"
     ]
    }
   ],
   "source": [
    "# Write a program to print \"You can Vote\" or \"You Cannot Vote\n",
    "\n",
    "age=float(input(\"enter your age\"))\n",
    "if (age==18 and age>=18):\n",
    "    print( \"your can vote\")\n",
    "else:\n",
    "    print(\"your not eligible for vote\")\n",
    "\n",
    "\n",
    "\n",
    "\n",
    "\n",
    "\n"
   ]
  },
  {
   "cell_type": "code",
   "execution_count": 22,
   "metadata": {},
   "outputs": [
    {
     "name": "stdin",
     "output_type": "stream",
     "text": [
      "Enter A:  100\n",
      "Enter B:  200\n",
      "Enter C:  1\n"
     ]
    },
    {
     "name": "stdout",
     "output_type": "stream",
     "text": [
      "200.0 is the greatest.\n"
     ]
    }
   ],
   "source": [
    "# Write a program to find greatest of three numbers\n",
    "\n",
    "\n",
    "a = float(input(\"Enter A: \"))\n",
    "b = float(input(\"Enter B: \"))\n",
    "c = float(input(\"Enter C: \"))\n",
    "\n",
    "if a > b and a > c:\n",
    "    print(a, \"is the greatest.\")\n",
    "elif b > a and b > c:\n",
    "    print(b, \"is the greatest.\")\n",
    "else:\n",
    "    print(c ,\"is the greatest.\")\n",
    "\n",
    "\n",
    "\n",
    "\n",
    "\n",
    "\n",
    "\n"
   ]
  },
  {
   "cell_type": "code",
   "execution_count": 36,
   "metadata": {},
   "outputs": [
    {
     "name": "stdin",
     "output_type": "stream",
     "text": [
      "enter first number: 1000\n",
      "enter second number: 1000000\n"
     ]
    },
    {
     "name": "stdout",
     "output_type": "stream",
     "text": [
      "sum of two number is 1001000.0\n",
      " greater\n"
     ]
    }
   ],
   "source": [
    "#Write a program to print \"Super\" if the sum of number is \"less\" than 1000 and \"great\" if the sum of number is greater than 1000\n",
    "s1=float(input(\"enter first number:\"))\n",
    "s2=float(input(\"enter second number:\"))\n",
    "s=s1+s2\n",
    "print(\"sum of two number is\",s)\n",
    "if s<1000 :\n",
    "    print(\" super\")\n",
    "else:\n",
    "    print(\" greater\")\n"
   ]
  },
  {
   "cell_type": "code",
   "execution_count": null,
   "metadata": {},
   "outputs": [],
   "source": []
  }
 ],
 "metadata": {
  "kernelspec": {
   "display_name": "Python [conda env:base] *",
   "language": "python",
   "name": "conda-base-py"
  },
  "language_info": {
   "codemirror_mode": {
    "name": "ipython",
    "version": 3
   },
   "file_extension": ".py",
   "mimetype": "text/x-python",
   "name": "python",
   "nbconvert_exporter": "python",
   "pygments_lexer": "ipython3",
   "version": "3.13.5"
  }
 },
 "nbformat": 4,
 "nbformat_minor": 4
}
