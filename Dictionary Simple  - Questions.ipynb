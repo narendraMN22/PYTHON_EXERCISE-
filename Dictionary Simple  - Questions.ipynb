{
 "cells": [
  {
   "cell_type": "markdown",
   "metadata": {},
   "source": [
    "# Dictionary Simple Questions"
   ]
  },
  {
   "cell_type": "code",
   "execution_count": 6,
   "metadata": {},
   "outputs": [
    {
     "name": "stdout",
     "output_type": "stream",
     "text": [
      "{0: 10, 1: 20, 2: 30}\n"
     ]
    }
   ],
   "source": [
    "1. #Write a Python program to add a new key to the dictionary.\n",
    "   # Data:\n",
    "       # x = {0: 10, 1: 20}\n",
    "        #y = {2: 30}\n",
    "    #Expected Output:\n",
    "       # {0: 10, 1: 20, 2: 30} \n",
    "      \n",
    "x = {0: 10, 1: 20}\n",
    "y={2: 30}\n",
    "\n",
    "x.update(y)\n",
    "\n",
    "print(x)\n",
    "\n",
    "        \n",
    "        "
   ]
  },
  {
   "cell_type": "code",
   "execution_count": 25,
   "metadata": {},
   "outputs": [
    {
     "name": "stdout",
     "output_type": "stream",
     "text": [
      "a -> 10\n",
      "b -> 20\n",
      "c -> 30\n"
     ]
    }
   ],
   "source": [
    "#2. #Write a Python program to iterate over dictionaries using for loops.\n",
    "    #Data:\n",
    "#d = {\"a\":10, \"b\":20, \"c\":30,}\n",
    "    #Expected Output:\n",
    "       # a -> 10\n",
    "       # b -> 20\n",
    "       # c -> 30\n",
    "  \n",
    "d = {\"a\":10, \"b\":20, \"c\":30,}\n",
    "a=d.keys()\n",
    "b=d.values()\n",
    "m=d.items()\n",
    "for a, b  in m:\n",
    "    print(f\"{a} -> {b}\")\n",
    "    "
   ]
  },
  {
   "cell_type": "code",
   "execution_count": 29,
   "metadata": {},
   "outputs": [
    {
     "name": "stdout",
     "output_type": "stream",
     "text": [
      "250\n"
     ]
    }
   ],
   "source": [
    "#3. Write a Python program to sum all the values in a dictionary. \n",
    "#    Data:\n",
    "#        d = {\"data1\":100, \"data2\":-50, \"data3\":200}\n",
    "#    Expected Output:\n",
    "#        250\n",
    "d={\"data1\":100, \"data2\":-50, \"data3\":200}\n",
    "c=sum(d.values())\n",
    "print(c)\n",
    "\n",
    "\n",
    "\n",
    "        \n",
    "        \n",
    "        "
   ]
  },
  {
   "cell_type": "code",
   "execution_count": 47,
   "metadata": {},
   "outputs": [
    {
     "name": "stdout",
     "output_type": "stream",
     "text": [
      "-1000000\n"
     ]
    }
   ],
   "source": [
    "#4. Write a Python program to multiply all the values in a dictionary.\n",
    " #   Data:\n",
    " #       d={\"data1\":100, \"data2\":-50, \"data3\":200}\n",
    " #   Expected Output:\n",
    " #       -1000000\n",
    "d={\"data1\":100, \"data2\":-50, \"data3\":200}\n",
    "c=d.values()\n",
    "re=1\n",
    "\n",
    "for i in c:\n",
    "    re*=i\n",
    "\n",
    "print(re)\n",
    "\n",
    "\n",
    "        \n",
    "        "
   ]
  },
  {
   "cell_type": "code",
   "execution_count": 52,
   "metadata": {},
   "outputs": [
    {
     "name": "stdout",
     "output_type": "stream",
     "text": [
      "{'b': 2, 'c': 3, 'd': 4}\n"
     ]
    }
   ],
   "source": [
    "#5. #Write a Python program to remove a key from a dictionary.\n",
    "    #Data:\n",
    "d={\"a\":1,\"b\":2,\"c\":3,\"d\":4}\n",
    "    #Expected Output:\n",
    "      #  {'a': 1, 'b': 2, 'c': 3, 'd': 4}\n",
    "      #  {'b': 2, 'c': 3, 'd': 4}\n",
    "\n",
    "d.pop(\"a\")\n",
    "\n",
    "print(d)\n",
    "\n",
    "       \n",
    "        \n",
    "        "
   ]
  },
  {
   "cell_type": "code",
   "execution_count": 55,
   "metadata": {},
   "outputs": [
    {
     "name": "stdout",
     "output_type": "stream",
     "text": [
      "{'Chandler': 'Sarcasm', 'Monica': 'Chef', 'Joey': 'Food'}\n"
     ]
    }
   ],
   "source": [
    "#6. Write a Python program to map two lists into a dictionary.\n",
    "   # Data:\n",
    "keys = [\"Chandler\", \"Monica\", \"Joey\"]\n",
    "values = [\"Sarcasm\", \"Chef\", \"Food\"]\n",
    "   # Expected Output:\n",
    "   #     {'Chandler': 'Sarcasm', 'Monica': 'Chef', 'Joey': 'Food'}\n",
    "\n",
    "d=dict(zip(keys,values))\n",
    "\n",
    "print(d)\n",
    "        \n",
    "        \n"
   ]
  },
  {
   "cell_type": "code",
   "execution_count": 66,
   "metadata": {},
   "outputs": [
    {
     "name": "stdout",
     "output_type": "stream",
     "text": [
      "Chandler:Sarcasm\n",
      "Joey:Food\n",
      "Monica:Chef\n",
      "Rachel:Fashion\n",
      "Ross:Dinosaur\n"
     ]
    }
   ],
   "source": [
    "#7. Write a Python program to sort a dictionary by key. \n",
    " #   Data:\n",
    "dict = {'Chandler': 'Sarcasm', 'Monica': 'Chef', 'Joey': 'Food', 'Ross': 'Dinosaur', 'Rachel': 'Fashion'}\n",
    "\n",
    "  #  Expected Output:\n",
    "   #     Chandler: Sarcasm\n",
    "   #     Joey: Food\n",
    "   ##     Monica: Chef\n",
    "    #    Rachel: Fashion\n",
    "    #    Ross: Dinosaur\n",
    "\n",
    "s=sorted(dict.keys())\n",
    "b=sorted(dict.values())\n",
    "m=sorted(dict.items())\n",
    "\n",
    "\n",
    "for s,b in m:\n",
    "    print(f\"{s}:{b}\")\n",
    "    \n",
    "            \n",
    "            \n"
   ]
  },
  {
   "cell_type": "code",
   "execution_count": 70,
   "metadata": {},
   "outputs": [
    {
     "name": "stdout",
     "output_type": "stream",
     "text": [
      " Dictonary is full\n"
     ]
    }
   ],
   "source": [
    "#8. Write a Python program to check whether a dictionary is empty or not.\n",
    " #   Data:\n",
    "dict={}\n",
    " #   Expected Output:\n",
    " #       Dictionary is empty\n",
    "\n",
    "if not dict:\n",
    "    print(\" Dictonary is empty \")\n",
    "else:\n",
    "    print(\" Dictonary is full\")\n",
    "    \n",
    "        "
   ]
  },
  {
   "cell_type": "code",
   "execution_count": 73,
   "metadata": {},
   "outputs": [
    {
     "name": "stdout",
     "output_type": "stream",
     "text": [
      "physics\n",
      "math\n",
      "chemistry\n"
     ]
    }
   ],
   "source": [
    "#9. Write a Python program to print the keys by index in a dictionary.\n",
    "    #Data:\n",
    "d = {'physics': 90, 'math': 100, 'chemistry': 96}\n",
    "#    Expected Output:\n",
    "#        physics\n",
    "##        math\n",
    " #       chemistry\n",
    "\n",
    "c=list(d.keys())\n",
    "\n",
    "for i in c:\n",
    "    print(i)\n",
    "        \n",
    "        \n",
    "        "
   ]
  },
  {
   "cell_type": "code",
   "execution_count": 75,
   "metadata": {},
   "outputs": [
    {
     "name": "stdout",
     "output_type": "stream",
     "text": [
      "{1: 10, 2: 20, 3: 30, 4: 40, 5: 50, 6: 60}\n"
     ]
    }
   ],
   "source": [
    "#10. Write a Python program to concatenate following dictionaries to create a new one.\n",
    " #   Data:\n",
    "d1={1:10, 2:20} \n",
    "d2={3:30, 4:40} \n",
    "d3={5:50, 6:60}\n",
    "   # Expected Output:\n",
    "    #    {1: 10, 2: 20, 3: 30, 4: 40, 5: 50, 6: 60}\n",
    "\n",
    "s={}\n",
    "s.update(d1)\n",
    "s.update(d2)\n",
    "s.update(d3)\n",
    "print(s)\n"
   ]
  },
  {
   "cell_type": "code",
   "execution_count": 78,
   "metadata": {},
   "outputs": [
    {
     "name": "stdout",
     "output_type": "stream",
     "text": [
      "{1: 1, 2: 4, 3: 9, 4: 16, 5: 25, 6: 36}\n"
     ]
    }
   ],
   "source": [
    "#11. Write a Python program to generate a dictionary that has length n and the elements in the format of {x: x*x}. \n",
    "   # Data:\n",
    "n = 6\n",
    "  #  Expected Output:\n",
    "     #   {1: 1, 2: 4, 3: 9, 4: 16, 5: 25, 6: 36}\n",
    "\n",
    "s = {x: x*x for x in range(1, n+1)}\n",
    "\n",
    "print(s)\n",
    "        \n",
    "        \n",
    "        "
   ]
  },
  {
   "cell_type": "code",
   "execution_count": 82,
   "metadata": {},
   "outputs": [
    {
     "name": "stdout",
     "output_type": "stream",
     "text": [
      "{1: 1, 2: 4, 3: 9, 4: 16, 5: 25, 6: 36, 7: 49, 8: 64, 9: 81, 10: 100, 11: 121, 12: 144, 13: 169, 14: 196, 15: 225}\n"
     ]
    }
   ],
   "source": [
    "#12. Write a Python program to print a dictionary where the keys are numbers between 1 and 15 (both included) and \n",
    "    #the values are square of keys.\n",
    "    #Expected Output:\n",
    "       # {1: 1, 2: 4, 3: 9, 4: 16, 5: 25, 6: 36, 7: 49, 8: 64, 9: 81, 10: 100, 11: 121, 12: 144, 13: 169, 14: 196, 15: 225}\n",
    "n=15\n",
    "v={x: x*x for x in range(1, n+1)}\n",
    "print(v)\n",
    "        \n",
    "        "
   ]
  },
  {
   "cell_type": "code",
   "execution_count": 84,
   "metadata": {},
   "outputs": [
    {
     "name": "stdout",
     "output_type": "stream",
     "text": [
      "{'a': 10, 'b': 20, 'x': 30, 'y': 40}\n"
     ]
    }
   ],
   "source": [
    "#13. Write a Python program to merge two dictionaries. \n",
    "    #Data:\n",
    "d1 = {\"a\":10, \"b\":20}\n",
    "d2 = {\"x\":30, \"y\":40}\n",
    "   # Expected Output:\n",
    "     #   {'a': 10, 'b': 20, 'x': 30, 'y': 40}\n",
    "v={}\n",
    "\n",
    "v.update(d1)\n",
    "v.update(d2)\n",
    "print(v)\n",
    "        \n",
    "        \n",
    "        "
   ]
  },
  {
   "cell_type": "code",
   "execution_count": 92,
   "metadata": {},
   "outputs": [
    {
     "name": "stdout",
     "output_type": "stream",
     "text": [
      "Bihar Patna\n",
      "Sikkim Gangtok\n",
      "Goa Panaji\n"
     ]
    }
   ],
   "source": [
    "#14. Write a Python program to iterate over a dictionary and print all the keys and values using for loops.\n",
    "   # Data:\n",
    "d = {\"Bihar\":'Patna', \"Sikkim\":'Gangtok', \"Goa\":'Panaji'}\n",
    "    #Expected Output:\n",
    "     #   Bihar   Patna\n",
    "     #   Sikkim  Gangtok\n",
    "     #   Goa     Panaji\n",
    "\n",
    "a=d.keys()\n",
    "b=d.values()\n",
    "s=d.items()\n",
    "\n",
    "for a,b in s:\n",
    "    print(a,b)\n",
    "        \n",
    "        \n",
    "        "
   ]
  },
  {
   "cell_type": "code",
   "execution_count": 2,
   "metadata": {},
   "outputs": [
    {
     "name": "stdout",
     "output_type": "stream",
     "text": [
      "{'b': 40, 'a': 40, 'c': 30, 'd': 40}\n"
     ]
    }
   ],
   "source": [
    "#15. Write a Python program to add the values of common keys by combining two dictionaries.\n",
    " #   Data:\n",
    "d1 = {'a': 10, 'b': 20, 'c':30}\n",
    "d2 = {'a': 30, 'b': 20, 'd':40}\n",
    "   # Expected Output:    \n",
    "  #      Counter({'a': 40, 'b': 40, 'd': 40, 'c': 30})\n",
    "\n",
    "a= set(d1.keys()).union(d2.keys())\n",
    "\n",
    "r = {}\n",
    "for key in a:\n",
    "    result[key] = d1.get(key, 0) + d2.get(key, 0)\n",
    "\n",
    "print(result)\n",
    "        \n",
    "        \n",
    "    "
   ]
  },
  {
   "cell_type": "code",
   "execution_count": 13,
   "metadata": {},
   "outputs": [
    {
     "name": "stdout",
     "output_type": "stream",
     "text": [
      "ac\n",
      "ad\n",
      "bc\n",
      "bd\n"
     ]
    }
   ],
   "source": [
    "#16. Write a Python program to create and display all combinations of letters, selecting each letter from a different key in a dictionary.\n",
    " #   Data:\n",
    " #       {'1':['a','b'], '2':['c','d']}\n",
    " #   Expected Output: \n",
    "  #      ac\n",
    "  #      ad\n",
    "  #      bc\n",
    "  #      bd\n",
    "d={'1':['a','b'], '2':['c','d']}       \n",
    "\n",
    "\n",
    "L=d['1']\n",
    "M=d['2']\n",
    "#print(L,M)\n",
    "\n",
    "for i in L:\n",
    "    for j in M:\n",
    "        print(i+j)\n",
    "        \n",
    "        "
   ]
  },
  {
   "cell_type": "code",
   "execution_count": 31,
   "metadata": {},
   "outputs": [
    {
     "name": "stdout",
     "output_type": "stream",
     "text": [
      "['a', 'b', 'c', 'd', 'e', 'f']\n"
     ]
    }
   ],
   "source": [
    "#17. Write a Python program to find the highest 3 values and print the corresponding keys from a dictionary.\n",
    " #   Data:\n",
    "d = {'a':500, 'b':5874, 'c': 560,'d':400, 'e':5874, 'f': 20} \n",
    " #   Expected Output: \n",
    " #       ['b', 'e', 'c']\n",
    "        \n",
    "\n",
    "##s={}\n",
    "#print(s"
   ]
  },
  {
   "cell_type": "code",
   "execution_count": 33,
   "metadata": {},
   "outputs": [
    {
     "name": "stdout",
     "output_type": "stream",
     "text": [
      "C1 C2 C3\n",
      "1 5 9\n",
      "2 6 10\n",
      "3 7 11\n"
     ]
    }
   ],
   "source": [
    "#18. Write a Python program to print the dictionary in a table format.\n",
    "    #Data:\n",
    "   #     d = {'C1':[1,2,3], 'C2':[5,6,7], 'C3':[9,10,11]}\n",
    "   # Expected Output:\n",
    "   #     C1 C2 C3\n",
    "   #     1  5  9\n",
    "    #    2  6  10\n",
    "   #     3  7  11        \n",
    "d = {'C1': [1, 2, 3], 'C2': [5, 6, 7], 'C3': [9, 10, 11]}\n",
    "\n",
    "# Print headers\n",
    "print('C1', 'C2', 'C3')\n",
    "\n",
    "# Print rows\n",
    "for i in range(3):\n",
    "    print(d['C1'][i], d['C2'][i], d['C3'][i])\n",
    "        \n",
    "        "
   ]
  },
  {
   "cell_type": "code",
   "execution_count": 34,
   "metadata": {},
   "outputs": [
    {
     "name": "stdout",
     "output_type": "stream",
     "text": [
      "{1: {2: {3: 4}}}\n"
     ]
    }
   ],
   "source": [
    "#19. Write a Python program to convert a list into a nested dictionary of keys.\n",
    "#    Data:\n",
    " #       d = [1, 2, 3, 4]\n",
    "#    Expected Output:\n",
    "#        {1: {2: {3: {4: {}}}}} \n",
    "        \n",
    "d = [1, 2, 3, 4]\n",
    "\n",
    "result = d[-1]\n",
    "for key in reversed(d[:-1]):\n",
    "    result = {key: result}\n",
    "\n",
    "print(result)        \n",
    "        \n",
    "        "
   ]
  },
  {
   "cell_type": "code",
   "execution_count": 35,
   "metadata": {},
   "outputs": [
    {
     "name": "stdout",
     "output_type": "stream",
     "text": [
      "{'n1': [1, 2, 3], 'n2': [1, 2, 5], 'n3': [2, 3, 4]}\n"
     ]
    }
   ],
   "source": [
    "#20. Write a Python program to sort a list of values alphabetically in a dictionary.\n",
    "#    Data:\n",
    "d = {'n1': [2, 3, 1], 'n2': [5, 1, 2], 'n3': [3, 2, 4]}\n",
    "#    Expected Output:\n",
    "#        {'n1': [1, 2, 3], 'n2': [1, 2, 5], 'n3': [2, 3, 4]}\n",
    "\n",
    "for key in d:\n",
    "    d[key].sort()\n",
    "\n",
    "print(d)            \n",
    "            \n",
    "            "
   ]
  },
  {
   "cell_type": "code",
   "execution_count": 104,
   "metadata": {},
   "outputs": [],
   "source": [
    "s=\"jnjncjncj\"\n",
    "m=2\n",
    "l=[]\n",
    "for i in s,m:\n",
    "    d={}\n",
    "    d[\"naewndrsa\"]=s\n",
    "    d[\"gagaga\"]=m\n",
    "    l.append(d)"
   ]
  },
  {
   "cell_type": "code",
   "execution_count": 105,
   "metadata": {},
   "outputs": [
    {
     "data": {
      "text/plain": [
       "[{'naewndrsa': 'jnjncjncj', 'gagaga': 2},\n",
       " {'naewndrsa': 'jnjncjncj', 'gagaga': 2}]"
      ]
     },
     "execution_count": 105,
     "metadata": {},
     "output_type": "execute_result"
    }
   ],
   "source": [
    "l"
   ]
  },
  {
   "cell_type": "code",
   "execution_count": null,
   "metadata": {},
   "outputs": [],
   "source": []
  }
 ],
 "metadata": {
  "kernelspec": {
   "display_name": "Python [conda env:base] *",
   "language": "python",
   "name": "conda-base-py"
  },
  "language_info": {
   "codemirror_mode": {
    "name": "ipython",
    "version": 3
   },
   "file_extension": ".py",
   "mimetype": "text/x-python",
   "name": "python",
   "nbconvert_exporter": "python",
   "pygments_lexer": "ipython3",
   "version": "3.13.5"
  }
 },
 "nbformat": 4,
 "nbformat_minor": 4
}
