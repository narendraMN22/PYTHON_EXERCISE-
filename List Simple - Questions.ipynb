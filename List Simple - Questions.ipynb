{
 "cells": [
  {
   "cell_type": "markdown",
   "metadata": {},
   "source": [
    "## List Simple - Questions"
   ]
  },
  {
   "cell_type": "code",
   "execution_count": 81,
   "metadata": {},
   "outputs": [
    {
     "name": "stdout",
     "output_type": "stream",
     "text": [
      "The list is empty\n"
     ]
    }
   ],
   "source": [
    "# 1. Write a Python program to check whether the list is empty or not.\n",
    "\n",
    "list = []\n",
    "\n",
    "if not list:\n",
    "    print(\"The list is empty\")\n",
    "else:\n",
    "    print(\"The list is not empty\")\n",
    "\n"
   ]
  },
  {
   "cell_type": "code",
   "execution_count": 22,
   "metadata": {},
   "outputs": [
    {
     "name": "stdout",
     "output_type": "stream",
     "text": [
      "0 5 \n",
      " 1 15 \n",
      " 2 35 \n",
      " 3 8 \n",
      " 4 98\n",
      "0 5\n",
      "1 15\n",
      "2 35\n",
      "3 8\n",
      "4 98\n"
     ]
    }
   ],
   "source": [
    "''' 2. Write a Python program to access the index of all the elements in a list.\n",
    "        Data:\n",
    "            x = [5, 15, 35, 8, 98]\n",
    "        Expected Output:\n",
    "            0 5\n",
    "            1 15\n",
    "            2 35\n",
    "            3 8\n",
    "            4 98 '''\n",
    "\n",
    "x = [5, 15, 35, 8, 98]\n",
    "print(\"0\",x[0],\"\\n\",\"1\",x[1],\"\\n\",\"2\",x[2],\"\\n\",'3',x[3],\"\\n\",\"4\",x[4],)\n",
    "\n",
    "or \n",
    "\n",
    "for i in range (0,5):\n",
    "    print(f\"{i} {x[i]}\")\n",
    "\n"
   ]
  },
  {
   "cell_type": "code",
   "execution_count": 82,
   "metadata": {},
   "outputs": [
    {
     "name": "stdout",
     "output_type": "stream",
     "text": [
      "a,b,c,d\n"
     ]
    }
   ],
   "source": [
    "''' 3. Write a Python program to convert a list of characters into a string.\n",
    "        Data:\n",
    "            x = ['a', 'b', 'c', 'd']\n",
    "        Expected Output:\n",
    "            abcd '''\n",
    "\n",
    "a=['a','b','c','d']\n",
    "\n",
    "m=''.join(a)\n",
    "print(m)\n"
   ]
  },
  {
   "cell_type": "code",
   "execution_count": 42,
   "metadata": {},
   "outputs": [
    {
     "name": "stdout",
     "output_type": "stream",
     "text": [
      "Index of 4 is 2\n"
     ]
    }
   ],
   "source": [
    "''' 4. Write a Python program to find the index of specified item in a list.\n",
    "        Data:\n",
    "            x = [10, 30, 4, -6]\n",
    "        Expected Output:\n",
    "            Index of 4 is 2 '''\n",
    "v= [10, 30, 4, -6]\n",
    "\n",
    "print(\"Index of 4 is\",v.index(4))\n",
    "\n"
   ]
  },
  {
   "cell_type": "code",
   "execution_count": 50,
   "metadata": {},
   "outputs": [
    {
     "name": "stdout",
     "output_type": "stream",
     "text": [
      "sum is -5\n"
     ]
    }
   ],
   "source": [
    "''' 5. Write a Python program to print the sum of all the items in a list.\n",
    "    Data:\n",
    "        lt = [1, 2, -8]\n",
    "    Expected Output:\n",
    "        sum is -5 '''\n",
    "a= [1, 2, -8]\n",
    "\n",
    "print(\"sum is\",sum(a))\n",
    "\n"
   ]
  },
  {
   "cell_type": "code",
   "execution_count": 63,
   "metadata": {},
   "outputs": [
    {
     "name": "stdout",
     "output_type": "stream",
     "text": [
      "-16\n"
     ]
    }
   ],
   "source": [
    "''' 6. Write a Python program to multiply all the items in a list.\n",
    "        Data:\n",
    "            [1, 2, -8]\n",
    "        Expected Output:\n",
    "            -16 '''\n",
    "\n",
    "m=[1, 2, -8]\n",
    "a=1\n",
    "\n",
    "for n in m:\n",
    "    a=a*n\n",
    "\n",
    "print(a)\n"
   ]
  },
  {
   "cell_type": "code",
   "execution_count": 72,
   "metadata": {},
   "outputs": [
    {
     "name": "stdout",
     "output_type": "stream",
     "text": [
      "2\n"
     ]
    }
   ],
   "source": [
    "''' 7. Write a Python program to get the largest number from a list.\n",
    "        Data:\n",
    "            [1, 2, -8, 0]\n",
    "        Expected Output:\n",
    "            2 '''\n",
    "\n",
    "a=[1, 2, -8, 0]\n",
    "\n",
    "a.sort()\n",
    "\n",
    "large=a[-1]\n",
    "print(large)\n",
    "\n",
    "\n"
   ]
  },
  {
   "cell_type": "markdown",
   "metadata": {},
   "source": [
    "### ''' 8. Write a Python program to get the smallest number from a list. \n",
    "    \"\"\"\n",
    "            [1, 2, -8, 0]\n",
    "        Expected Output:\n",
    "    \"\"\"\n",
    "\n",
    "\n",
    "\n",
    "\n",
    "            \n",
    "\n"
   ]
  },
  {
   "cell_type": "code",
   "execution_count": 1,
   "metadata": {},
   "outputs": [
    {
     "data": {
      "text/plain": [
       "-8"
      ]
     },
     "execution_count": 1,
     "metadata": {},
     "output_type": "execute_result"
    }
   ],
   "source": [
    "a=[1,2,-8,0]\n",
    "min(a)"
   ]
  },
  {
   "cell_type": "code",
   "execution_count": 12,
   "metadata": {},
   "outputs": [
    {
     "name": "stdout",
     "output_type": "stream",
     "text": [
      "[10, 20, 30, 40, 50, 60, 80]\n"
     ]
    }
   ],
   "source": [
    "''' 9. Write a Python program to remove duplicate items from a list.\n",
    "        Data:\n",
    "            a = [10,20,30,20,10,50,60,40,80,50,40]\n",
    "        Expected Output:\n",
    "            [10, 20, 30, 50, 60, 40, 80] '''\n",
    "\n",
    "a=[10,20,30,20,10,50,60,40,80,50,40]\n",
    "\n",
    "\n",
    "c=set(a)\n",
    "d=list(c)\n",
    "d.sort()\n",
    "print(d)\n"
   ]
  },
  {
   "cell_type": "code",
   "execution_count": 20,
   "metadata": {},
   "outputs": [
    {
     "name": "stdout",
     "output_type": "stream",
     "text": [
      "X- [10, 22, 44, 23, 4] \n",
      " Y- [10, 22, 44, 23, 4]\n"
     ]
    }
   ],
   "source": [
    "''' 10. Write a Python program to clone or copy a list.\n",
    "        Data:\n",
    "            x = [10, 22, 44, 23, 4]\n",
    "        Expected Output:\n",
    "            X - [10, 22, 44, 23, 4]\n",
    "            Y - [10, 22, 44, 23, 4] '''\n",
    "\n",
    "x = [10, 22, 44, 23, 4]\n",
    "\n",
    "Y=x.copy()\n",
    "\n",
    "print(\"X-\",x,\"\\n\",\"Y-\",Y)"
   ]
  },
  {
   "cell_type": "code",
   "execution_count": 25,
   "metadata": {},
   "outputs": [
    {
     "name": "stdout",
     "output_type": "stream",
     "text": [
      "(1, 2, 3, 4, 5) \n",
      " [1, 2, 3, 4, 5]\n"
     ]
    }
   ],
   "source": [
    "''' 11. Write a Python program to convert a tuple into a List.\n",
    "        Data:\n",
    "            x = (1,2,3,4,5)\n",
    "        Expected Output:\n",
    "            (1, 2, 3, 4, 5)\n",
    "            [1, 2, 3, 4, 5] '''\n",
    "x = (1,2,3,4,5)\n",
    "y=list(x)\n",
    "print(x,\"\\n\",y)\n"
   ]
  },
  {
   "cell_type": "code",
   "execution_count": 38,
   "metadata": {},
   "outputs": [
    {
     "name": "stdout",
     "output_type": "stream",
     "text": [
      "7,25,27,[7, 25, 27]\n"
     ]
    }
   ],
   "source": [
    "''' 12. Write a Python program to print the numbers of a specified list after removing even numbers from it.\n",
    "        Data:\n",
    "            x = [7, 8, 120, 25, 44, 20, 27]\n",
    "        Expected Output:\n",
    "            [7, 25, 27] '''\n",
    "x = [7, 8, 120, 25, 44, 20, 27]\n",
    "\n",
    "a=1\n",
    "for a in x:\n",
    "    if a%2!=0:\n",
    "        print(a ,end=\",\")\n",
    "\n",
    "#or \n",
    "\n",
    "l=[s for s in x if s % 2!=0]\n",
    "print(l)\n",
    "\n"
   ]
  },
  {
   "cell_type": "code",
   "execution_count": 76,
   "metadata": {},
   "outputs": [
    {
     "name": "stdout",
     "output_type": "stream",
     "text": [
      "['Pink', 'White', 'Green', 'Yellow', 'Red', 'Black']\n"
     ]
    }
   ],
   "source": [
    "''' 13. Write a Python program to shuffle and print a specified list. \n",
    "        Data:\n",
    "            x = ['Red', 'Green', 'White', 'Black', 'Pink', 'Yellow']\n",
    "        Expected Output:\n",
    "            ['Pink', 'Black', 'Red', 'Yellow', 'White', 'Green'] '''\n",
    "\n",
    "import random \n",
    "x = ['Red', 'Green', 'White', 'Black', 'Pink', 'Yellow']\n",
    "random.shuffle(x)\n",
    "print(x)\n"
   ]
  },
  {
   "cell_type": "code",
   "execution_count": 91,
   "metadata": {},
   "outputs": [
    {
     "name": "stdout",
     "output_type": "stream",
     "text": [
      "[1, 2, 3, 0, 'Red', 'Green', 'Black']\n"
     ]
    }
   ],
   "source": [
    "''' 14. Write a Python program to append the second list to the first list.\n",
    "        Data:\n",
    "            x = [1, 2, 3, 0]\n",
    "            y = ['Red', 'Green', 'Black']\n",
    "        Expected Output:\n",
    "            [1, 2, 3, 0, 'Red', 'Green', 'Black'] '''\n",
    "x = [1, 2, 3, 0]\n",
    "y = ['Red', 'Green', 'Black']\n",
    "\n",
    "\n",
    "\n",
    "x.extend(y)\n",
    "print(x)\n",
    "\n"
   ]
  },
  {
   "cell_type": "code",
   "execution_count": 95,
   "metadata": {},
   "outputs": [
    {
     "name": "stdout",
     "output_type": "stream",
     "text": [
      "White\n"
     ]
    }
   ],
   "source": [
    "''' 15. Write a Python program to select an item randomly from a list.\n",
    "        Data:\n",
    "            x = ['Red', 'Blue', 'Green', 'White', 'Black']\n",
    "        Expected Output:\n",
    "            White '''\n",
    "x = ['Red', 'Blue', 'Green', 'White', 'Black']\n",
    "\n",
    "print(x[3])\n",
    "\n",
    "#print(a)\n"
   ]
  },
  {
   "cell_type": "code",
   "execution_count": 1,
   "metadata": {},
   "outputs": [
    {
     "name": "stdout",
     "output_type": "stream",
     "text": [
      "[40, 10, 50, 20, 60, 30]\n"
     ]
    }
   ],
   "source": [
    "''' 16. Write a Python program to get unique values from a list.\n",
    "        Data:\n",
    "            Original List :  [10, 20, 30, 40, 20, 50, 60, 40]\n",
    "        Expected Output:\n",
    "            List of unique numbers :  [40, 10, 50, 20, 60, 30] '''\n",
    "\n",
    "a=[10, 20, 30, 40, 20, 50, 60, 40]\n",
    "\n",
    "c=list(set(a))\n",
    "print(c)\n",
    "\n",
    "\n",
    "\n",
    "\n",
    "\n"
   ]
  },
  {
   "cell_type": "code",
   "execution_count": 3,
   "metadata": {},
   "outputs": [
    {
     "name": "stdout",
     "output_type": "stream",
     "text": [
      "2982109122400\n",
      "140703977030376\n"
     ]
    }
   ],
   "source": [
    "''' 17. Write a Python program to get variable unique identification number or string.\n",
    "        Data:\n",
    "            var1 = 'Python'\n",
    "            var2 = 123\n",
    "        Expected Output:\n",
    "            186756869b0\n",
    "            7ffea3a83660 '''\n",
    "\n",
    "var1 = 'Python'\n",
    "var2 = 123\n",
    "print(id(var1))\n",
    "print(id(var2))\n",
    "        \n"
   ]
  },
  {
   "cell_type": "code",
   "execution_count": 6,
   "metadata": {},
   "outputs": [
    {
     "name": "stdout",
     "output_type": "stream",
     "text": [
      "{'Green', 'White'}\n"
     ]
    }
   ],
   "source": [
    "''' 18. Write a Python program to print common elements from two lists using set().\n",
    "        Data:\n",
    "            x = (\"Red\", \"Green\", \"Orange\", \"White\")\n",
    "            y = (\"Black\", \"Green\", \"White\", \"Pink\")\n",
    "        Expected Output:\n",
    "            {'White', 'Green'} '''\n",
    "x=[\"Red\", \"Green\", \"Orange\", \"White\"]\n",
    "y=[\"Black\", \"Green\", \"White\", \"Pink\"]\n",
    "\n",
    "c=set(x) & set(y)\n",
    "print(c)\n"
   ]
  },
  {
   "cell_type": "code",
   "execution_count": 14,
   "metadata": {},
   "outputs": [
    {
     "name": "stdout",
     "output_type": "stream",
     "text": [
      "112233\n"
     ]
    }
   ],
   "source": [
    "''' 19. Write a Python program to convert a list of multiple integers into a single integer.\n",
    "        Data:\n",
    "            x = [11, 22, 33]\n",
    "        Expected Output:\n",
    "            112233 '''\n",
    "x=[11, 22, 33]\n",
    "v=int(''.join(map(str,x)))\n",
    "print(v)\n",
    "\n",
    "\n"
   ]
  },
  {
   "cell_type": "code",
   "execution_count": 20,
   "metadata": {},
   "outputs": [
    {
     "name": "stdout",
     "output_type": "stream",
     "text": [
      "{'1': [], '2': [], '3': [], '4': [], '5': [], '6': [], '7': [], '8': [], '9': []}\n"
     ]
    }
   ],
   "source": [
    "''' 20. Write a Python program to create multiple lists.\n",
    "        Data:\n",
    "            x = {}\n",
    "        Expected Output:\n",
    "            {'1': [], '2': [], '3': [], '4': [], '5': [], '6': [], '7': [], '8': [], '9': []} '''\n",
    "        \n",
    "x={}\n",
    "for i in range(1,10):\n",
    "    x[str(i)] = []\n",
    "print(x)"
   ]
  },
  {
   "cell_type": "code",
   "execution_count": null,
   "metadata": {},
   "outputs": [],
   "source": []
  }
 ],
 "metadata": {
  "kernelspec": {
   "display_name": "Python [conda env:base] *",
   "language": "python",
   "name": "conda-base-py"
  },
  "language_info": {
   "codemirror_mode": {
    "name": "ipython",
    "version": 3
   },
   "file_extension": ".py",
   "mimetype": "text/x-python",
   "name": "python",
   "nbconvert_exporter": "python",
   "pygments_lexer": "ipython3",
   "version": "3.13.5"
  }
 },
 "nbformat": 4,
 "nbformat_minor": 4
}
